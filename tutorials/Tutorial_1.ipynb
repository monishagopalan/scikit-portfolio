{
 "cells": [
  {
   "cell_type": "code",
   "execution_count": null,
   "id": "2453ce91",
   "metadata": {},
   "outputs": [],
   "source": [
    "%load_ext autoreload\n",
    "%autoreload 2"
   ]
  },
  {
   "cell_type": "markdown",
   "id": "dfb38d7e",
   "metadata": {},
   "source": [
    "# Import necessary libraries"
   ]
  },
  {
   "cell_type": "code",
   "execution_count": null,
   "id": "39e95187",
   "metadata": {},
   "outputs": [],
   "source": [
    "import numpy as np\n",
    "import pandas as pd\n",
    "import matplotlib.pyplot as plt\n",
    "import matplotlib as mpl\n",
    "import seaborn as sns\n",
    "\n",
    "from skportfolio.datasets import load_dataset,get_dataset_names"
   ]
  },
  {
   "cell_type": "markdown",
   "id": "54ff7dca-f1de-4819-bc27-0e4ba276d7bf",
   "metadata": {},
   "source": [
    "## Theming and more beautiful charts"
   ]
  },
  {
   "cell_type": "code",
   "execution_count": null,
   "id": "6a40f8e4-ce32-4f99-ba8f-3f9f1a49efe0",
   "metadata": {},
   "outputs": [],
   "source": [
    "# pip install ing-theme-matplotlib"
   ]
  },
  {
   "cell_type": "code",
   "execution_count": null,
   "id": "7921ff62-0196-4c6a-b64a-5c48de265beb",
   "metadata": {},
   "outputs": [],
   "source": [
    "%config InlineBackend.figure_format = 'svg' # makes the plots HD in the notebook\n",
    "mpl.rcParams[\"figure.autolayout\"] = True # enables tigh layout. Better multiplots\n",
    "plt.rcParams['font.family'] = 'sans-serif'\n",
    "plt.rcParams['font.sans-serif'] = 'Arial'\n",
    "\n",
    "# from ing_theme_matplotlib import mpl_style\n",
    "# mpl_style(dark=True)"
   ]
  },
  {
   "cell_type": "markdown",
   "id": "e9a78c38-3fd2-43e4-92e5-f15ea2805872",
   "metadata": {},
   "source": [
    "## Explore some of the `scikit-portfolio` datasets.\n",
    "They are stored in the `skportfolio-data` repository"
   ]
  },
  {
   "cell_type": "code",
   "execution_count": null,
   "id": "f558d9c9-626f-4d47-ab17-c1d56c21b251",
   "metadata": {},
   "outputs": [],
   "source": [
    "get_dataset_names()"
   ]
  },
  {
   "cell_type": "markdown",
   "id": "f370ccc9-01aa-43cb-9ac4-f9fd1f36061f",
   "metadata": {},
   "source": [
    "# Load tech stock prices over 4 years"
   ]
  },
  {
   "cell_type": "code",
   "execution_count": null,
   "id": "6769f94a",
   "metadata": {},
   "outputs": [],
   "source": [
    "prices = load_dataset('tech_stocks')"
   ]
  },
  {
   "cell_type": "markdown",
   "id": "f13278cd-5510-4e64-9912-eeec6abb79a6",
   "metadata": {},
   "source": [
    "# First basic portfolio optimization with Markowitz efficient frontier\n",
    "\n",
    "Here we calculate the optimal portfolio using Mean-Variance optimization."
   ]
  },
  {
   "cell_type": "code",
   "execution_count": null,
   "id": "17ba2be0-8dd8-43dc-a016-536e3e8aafc1",
   "metadata": {},
   "outputs": [],
   "source": [
    "from skportfolio import MeanVarianceEfficientReturn"
   ]
  },
  {
   "cell_type": "code",
   "execution_count": null,
   "id": "b4804b6d-7c8a-4dcf-a749-e0047c968705",
   "metadata": {},
   "outputs": [],
   "source": [
    "MeanVarianceEfficientReturn().fit(prices).weights_"
   ]
  },
  {
   "cell_type": "markdown",
   "id": "335bb9fc-a2d6-4f7e-b9bc-5cbcd3315ac0",
   "metadata": {},
   "source": [
    "We can also plot the entire efficient frontier, together with the point where the current portfolio lies"
   ]
  },
  {
   "cell_type": "code",
   "execution_count": null,
   "id": "255e3a6a-b5c7-46c4-8a68-6693eb0106b7",
   "metadata": {},
   "outputs": [],
   "source": [
    "from skportfolio.plotting import plot_frontier\n",
    "plot_frontier(\n",
    "    MeanVarianceEfficientReturn(target_return=0.2).fit(load_dataset('crypto_large')),\n",
    "    prices,\n",
    ")\n",
    "plt.grid(True)"
   ]
  },
  {
   "cell_type": "markdown",
   "id": "454eeaf7-f3ee-4877-bf37-453b5344a0c9",
   "metadata": {},
   "source": [
    "We can plot multiple portfolios over the same efficient frontier"
   ]
  },
  {
   "cell_type": "code",
   "execution_count": null,
   "id": "c5ffce81-0300-45bb-b292-c02eba1241d4",
   "metadata": {},
   "outputs": [],
   "source": [
    "from skportfolio.plotting import plot_frontier\n",
    "fig, ax = plt.subplots(figsize=(9,6))\n",
    "plot_frontier(\n",
    "    MeanVarianceEfficientReturn().set_target_return(0.55).fit(prices),\n",
    "    prices,\n",
    "    num_portfolios=100,\n",
    "    ax=ax,\n",
    "    show_assets=True\n",
    ")\n",
    "\n",
    "plot_frontier(\n",
    "    MeanVarianceEfficientReturn().set_target_return(0.65).fit(prices),\n",
    "    prices,\n",
    "    num_portfolios=0,\n",
    "    ax=ax,\n",
    "    show_only_portfolio=True,\n",
    "    risk_return_color='indianred'\n",
    ")\n",
    "ax.grid(True)\n",
    "ax.set_yticks(np.arange(0.35,0.75,0.05));"
   ]
  },
  {
   "cell_type": "markdown",
   "id": "a3ade9cb-235c-4671-a9bd-b608d47c21f0",
   "metadata": {},
   "source": [
    "You can add to this visualization the Maximum Sharpe ratio portfolio. Here, importantly one has to acknowledge that the expected returns will be probably far off their \"true\" value, as a linear expectation is used to compute them."
   ]
  },
  {
   "cell_type": "code",
   "execution_count": null,
   "id": "7023a833-9459-4ccb-a806-df6aba14f9fe",
   "metadata": {},
   "outputs": [],
   "source": [
    "from skportfolio.frontier import MaxSharpe\n",
    "\n",
    "ax = plot_frontier(\n",
    "    MaxSharpe(risk_free_rate=0.1).fit(prices),\n",
    "    prices,\n",
    "    num_portfolios=128,\n",
    "    risk_return_color='C3',\n",
    "    show_tangency_line=True,\n",
    "    tangency_line_color=\"C3\",\n",
    "    figsize=(9,5)\n",
    ")"
   ]
  },
  {
   "cell_type": "markdown",
   "id": "8420e7f4-f952-4813-a929-16389c38bf24",
   "metadata": {},
   "source": [
    "# Compare two efficient frontiers: which method dominates?"
   ]
  },
  {
   "cell_type": "markdown",
   "id": "4798a044-69c9-4135-bb91-8676374ee94a",
   "metadata": {},
   "source": [
    "The point identified given a risk free rate is the tangency portfolio with the risk_free_rate of 0.1.\n",
    "\n",
    "You can also visualize the effects of changing the expected returns calculator, and replot a new efficient frontier."
   ]
  },
  {
   "cell_type": "code",
   "execution_count": null,
   "id": "aa2e69c0-8d09-4b79-9f06-4705ba386e77",
   "metadata": {},
   "outputs": [],
   "source": [
    "from skportfolio.riskreturn import MeanHistoricalLinearReturns, CAPMReturns\n",
    "\n",
    "ax = plot_frontier(\n",
    "    MaxSharpe(risk_free_rate=0.1).fit(prices),\n",
    "    prices,\n",
    "    num_portfolios=20,\n",
    "    frontier_line_color='C2',\n",
    "    risk_return_color='C2',\n",
    "    figsize=(9,5),\n",
    ")\n",
    "\n",
    "plot_frontier(\n",
    "    MaxSharpe(rets_estimator=CAPMReturns()).fit(prices),\n",
    "    prices,\n",
    "    num_portfolios=50,\n",
    "    risk_return_color='C0',\n",
    "    frontier_line_color='C0',\n",
    "    ax=ax\n",
    ")\n",
    "ax.grid(True)"
   ]
  },
  {
   "cell_type": "markdown",
   "id": "81850b59-c63a-4851-af1f-d0401ad2cbe7",
   "metadata": {},
   "source": [
    "But what if instead of we want to experiment the effects on the efficient frontier of different estimators of the Covariance?\n",
    "We know that MVO framework is highly sensible first to the expected returns, but also to the covariance. How do we keep in to account the noise in the estimation? We can first try with the famous **Ledoit-Wolf** regularization."
   ]
  },
  {
   "cell_type": "code",
   "execution_count": null,
   "id": "c338f8ab-1507-4d0c-b28c-471f6a361df7",
   "metadata": {},
   "outputs": [],
   "source": [
    "from skportfolio.riskreturn import CovarianceLedoitWolf, CovarianceGlasso, CovarianceExp,SampleCovariance\n",
    "\n",
    "ax = plot_frontier(\n",
    "    MaxSharpe(risk_estimator=SampleCovariance()).fit(prices),\n",
    "    prices,\n",
    "    num_portfolios=50,\n",
    "    risk_return_color='C0',\n",
    "    frontier_line_color='C0',\n",
    "    figsize=(9,5)\n",
    ")\n",
    "\n",
    "plot_frontier(\n",
    "    MaxSharpe(risk_estimator=CovarianceLedoitWolf()).fit(prices),\n",
    "    prices,\n",
    "    num_portfolios=50,\n",
    "    risk_return_color='C1',\n",
    "    frontier_line_color='C1',\n",
    "    ax=ax,\n",
    "    autoset_lims=False\n",
    ")\n",
    "\n",
    "\n",
    "plot_frontier(\n",
    "    MaxSharpe(risk_estimator=CovarianceExp(span=180)).fit(prices),\n",
    "    prices,\n",
    "    num_portfolios=50,\n",
    "    risk_return_color='C2',\n",
    "    frontier_line_color='C2',\n",
    "    ax=ax,\n",
    "    autoset_lims=False\n",
    ")\n",
    "ax.set_xlim([0.2,0.6])"
   ]
  },
  {
   "cell_type": "markdown",
   "id": "cc784b2f-ec10-4e5f-9425-d4298824f5fe",
   "metadata": {},
   "source": [
    "Then jump to more complicated methods, like the GLASSO method"
   ]
  },
  {
   "cell_type": "markdown",
   "id": "6ad0d920-d383-485d-8e9e-673536cd8055",
   "metadata": {},
   "source": [
    "## Accessing the efficient frontier points\n",
    "\n",
    "You can not only **plot** the efficient frontier, but every frontier portfolio object has the `.estimate_frontier` method.\n",
    "The method returns a triplet where the first two elements represent, the risk and return coordinates of the portfolios along the efficient frontier.\n",
    "The last element contains the portfolio weights along each point.\n",
    "Portfolios are indexed from the least risky to the maximum return along the frontier."
   ]
  },
  {
   "cell_type": "code",
   "execution_count": null,
   "id": "536166f6-dbe6-47f9-9de3-5566579ad233",
   "metadata": {},
   "outputs": [],
   "source": [
    "from skportfolio.frontier import MinimumVolatility\n",
    "\n",
    "MinimumVolatility().estimate_frontier(prices,num_portfolios=32)"
   ]
  },
  {
   "cell_type": "markdown",
   "id": "1c9b9116-b972-4cf1-8ac4-a137e4f9780a",
   "metadata": {},
   "source": [
    "## Adding other constraints to portfolio estimators\n",
    "You can add other constraints to the portfolio estimator objects, such as sector constraints.\n",
    "For the moment you need to indicate the asset with integer notation for the constraints."
   ]
  },
  {
   "cell_type": "code",
   "execution_count": null,
   "id": "cbb668de-3eb1-4633-b0ed-fe4ab5600e72",
   "metadata": {},
   "outputs": [],
   "source": [
    "m = MinimumVolatility()\n",
    "m.add_constraints([lambda w: w[4]>=0.4])"
   ]
  },
  {
   "cell_type": "code",
   "execution_count": null,
   "id": "0bba47bd-035e-48c2-85e8-2a8e01c4ad98",
   "metadata": {},
   "outputs": [],
   "source": [
    "m.fit(prices).weights_"
   ]
  },
  {
   "cell_type": "markdown",
   "id": "503a42d2-f53c-43fb-b0b6-e5b0c08df05f",
   "metadata": {},
   "source": [
    "### Setting more complex constraints\n",
    "More complex constraints can be enforced though!\n",
    "Here we set the sum of `AAPL` and `TSLA` to be less than 20% of entire portfolio!"
   ]
  },
  {
   "cell_type": "code",
   "execution_count": null,
   "id": "14df0824-b74c-4bab-8d6f-2e65f32d00ba",
   "metadata": {},
   "outputs": [],
   "source": [
    "m = MinimumVolatility()\n",
    "m.add_constraints([lambda w: (w[0]+w[1]) <= 0.2])\n",
    "print(m.fit(prices).weights_.round(4).mul(100))\n",
    "\n",
    "from skportfolio.plotting import pie_chart\n",
    "pie_chart(m.weights_, color='black')"
   ]
  },
  {
   "cell_type": "markdown",
   "id": "59cba731-7903-4376-a182-8867c2818da9",
   "metadata": {},
   "source": [
    "Remember that, for the moment, long-only portfolios are allowed, hence weights must sum to 1 and be positive!"
   ]
  },
  {
   "cell_type": "markdown",
   "id": "496daabc-ce83-4df3-9185-2587940a093d",
   "metadata": {},
   "source": [
    "# How to bootstrap scenarios on expected returns?\n",
    "## Michaud Resampled Efficient Frontier\n",
    "\n",
    "The estimation of expected returns has a large effect on the calculation of the efficient frontier.\n",
    "For this reason, one approach is based on bootstraping of the expected returns.\n",
    "The idea of the Michaud Resampled Efficient frontier is encoded through the `PerturbedLinearEstimator`.\n",
    "\n",
    "Every time you run it you sample a neighborhood of the efficient frontier, and you become able to smooth the extreme allocations provided by the Markowitz framework (this indeed works for all possible portfolio estimators requiring the expected returns estimator)."
   ]
  },
  {
   "cell_type": "code",
   "execution_count": null,
   "id": "29e606d4-687c-4b2d-a490-a80693a9791a",
   "metadata": {},
   "outputs": [],
   "source": [
    "from skportfolio.riskreturn import PerturbedReturns\n",
    "m = MaxSharpe(rets_estimator=PerturbedReturns()).fit(prices)\n",
    "m.weights_"
   ]
  },
  {
   "cell_type": "code",
   "execution_count": null,
   "id": "0a6a6420-abb3-4e93-a442-524d3eb444c5",
   "metadata": {},
   "outputs": [],
   "source": [
    "m.fit(prices).weights_"
   ]
  },
  {
   "cell_type": "markdown",
   "id": "fb7c8184-bbe2-47d4-aabd-09d92750cf1e",
   "metadata": {},
   "source": [
    "In this case a way to estimate the resampled frontier is through the Michaud algorithm.\n",
    "Here we resample **1024 independent scenarios** around the efficient return MVO portfolio, using parallelization.\n",
    "\n",
    "Mathematically, at each scenario we sample the returns $\\tilde{r} \\sim \\textrm{N}\\left( \\boldsymbol \\mu , \\hat{\\boldsymbol \\Sigma}) \\right)$. Each scenario being independent, produces a new value of the empirical expected returns $\\boldsymbol \\mu$. The sample covariance is kept intact, though.\n",
    "\n",
    "The meta-estimator `MichaudResampledFrontier` implements this idea."
   ]
  },
  {
   "cell_type": "code",
   "execution_count": null,
   "id": "3fab3771-8ac0-4191-8137-a1102852c5ca",
   "metadata": {},
   "outputs": [],
   "source": [
    "from skportfolio.ensemble import MichaudResampledFrontier\n",
    "\n",
    "resampled_ptf = MichaudResampledFrontier(\n",
    "    ptf_estimator=MeanVarianceEfficientReturn(target_return=0.55),\n",
    "    n_jobs=16,\n",
    "    n_iter=1024\n",
    ").fit(prices)"
   ]
  },
  {
   "cell_type": "markdown",
   "id": "e12a56e7-40db-49a0-8bdd-55577f8b3ee9",
   "metadata": {},
   "source": [
    "This procedures produces `n_iter` efficient frontiers, and we can average over all the portfolio weights at each point in the frontier.\n",
    "In case of excessive perturbation of the resampled expected returns, the problem may be infeasible. In those cases we ignore the scenario, that's why the effective number or scenarios may be lower than `n_iter`."
   ]
  },
  {
   "cell_type": "code",
   "execution_count": null,
   "id": "6f44554c-a02d-42e4-b131-5276df9cee96",
   "metadata": {},
   "outputs": [],
   "source": [
    "len(resampled_ptf.all_weights_)"
   ]
  },
  {
   "cell_type": "markdown",
   "id": "c3f76082-871b-44a6-8943-7b5eed60f9bb",
   "metadata": {},
   "source": [
    "Here all portfolios have been generated in parallel, thanks to `joblib`.\n",
    "\n",
    "A Box plot makes it possible to visualize the best allocation while also removing outlier allocations resulting from extreme weights."
   ]
  },
  {
   "cell_type": "code",
   "execution_count": null,
   "id": "7ee015f5-2186-456c-9213-48ed79b41a61",
   "metadata": {},
   "outputs": [],
   "source": [
    "sns.violinplot(\n",
    "    data=pd.concat(resampled_ptf.all_weights_,axis=1).T.reset_index(drop=True),cut=0\n",
    ")\n",
    "plt.ylim([0,1])\n",
    "plt.yticks(np.arange(0,1,0.1))\n",
    "plt.grid()"
   ]
  },
  {
   "cell_type": "markdown",
   "id": "b2c66b82-3e7c-4f4f-8401-0c0f5c4b8fca",
   "metadata": {},
   "source": [
    "The MichaudResampledFrontier portfolio is the following. \n",
    "As one can easly observe, by averaging over many portfolios, it tends to smooth out large too skewed allocations."
   ]
  },
  {
   "cell_type": "code",
   "execution_count": null,
   "id": "91916cf0-f5ea-41a9-9eb1-20f3a90b071d",
   "metadata": {},
   "outputs": [],
   "source": [
    "fig, ax=plt.subplots(ncols=2,figsize=(10,6))\n",
    "pie_chart(MeanVarianceEfficientReturn(target_return=0.55).fit(prices).weights_, ax=ax[0])\n",
    "pie_chart(resampled_ptf.weights_, ax=ax[1])\n",
    "plt.tight_layout()"
   ]
  },
  {
   "cell_type": "markdown",
   "id": "c1a5a4cf-acf8-42e6-bfd2-b35f879980d6",
   "metadata": {},
   "source": [
    "# Alternative ensemble methods: SubsetResampling\n",
    "\n",
    "The technique works by averaging allocation estimated with a noise-sensitive portfolio estimator (such as `MaxSharpeRatio`) over many *masked* subsets of assets.\n",
    "\n",
    "The mask-optimization process is repeated many times: every iteration considers only a certain fraction of the entire asset universe, and optimal weights are computed.\n",
    "All the local estimates are then aggregated either by averaging or by voting mechanism, and a final allocation is \n",
    "produced.\n",
    "\n",
    "Here we use another dataset, based on the prices of 74 cryptocurrencies, and the `MinimumVolatility` portfolio."
   ]
  },
  {
   "cell_type": "code",
   "execution_count": null,
   "id": "dfb4c00d-9508-4009-82cb-6db5055b536a",
   "metadata": {},
   "outputs": [],
   "source": [
    "from skportfolio.ensemble import SubsetResampling\n",
    "# fit on price data and average over 64 estimates, \n",
    "# considering ceil(5**0.5) = 3 stocks per subsample\n",
    "subset_ptf = SubsetResampling(\n",
    "\tptf_estimator=MinimumVolatility(\n",
    "        risk_estimator=CovarianceLedoitWolf()\n",
    "    ),\n",
    "\tsubset_size=0.8,\n",
    "\tn_iter=1024,\n",
    "\tn_jobs=16,\n",
    "\tagg_func=\"mean\"\n",
    ").fit(load_dataset('crypto_large'))"
   ]
  },
  {
   "cell_type": "code",
   "execution_count": null,
   "id": "cbc652c1-5912-44ba-bb45-db148f5f221a",
   "metadata": {},
   "outputs": [],
   "source": [
    "pie_chart(subset_ptf.weights_, threshold=8)"
   ]
  },
  {
   "cell_type": "markdown",
   "id": "a49df1b9-b353-47ed-830f-2f0e6e09084c",
   "metadata": {},
   "source": [
    "## Visualization of allocation as a function of portfolio risk\n",
    "\n",
    "It is easy to generate a nice plot of portfolio allocation as a function of its risk. This function works with **any** portfolio. It additionally prints a vertical line to indicate the current portfolio, if already fitted to data."
   ]
  },
  {
   "cell_type": "code",
   "execution_count": null,
   "id": "7d0d3b5e-397a-451f-8da7-a8679be8d337",
   "metadata": {},
   "outputs": [],
   "source": [
    "from skportfolio.frontier import MeanVarianceEfficientRisk\n",
    "from skportfolio.plotting import risk_allocation_chart"
   ]
  },
  {
   "cell_type": "markdown",
   "id": "077904d5-a998-487f-bd51-473391689424",
   "metadata": {},
   "source": [
    "Divide the dataset in train and test:"
   ]
  },
  {
   "cell_type": "code",
   "execution_count": null,
   "id": "e325f717-51ee-4dcd-98d9-30c5abbf951a",
   "metadata": {},
   "outputs": [],
   "source": [
    "from sklearn.model_selection import train_test_split\n",
    "prices_train, prices_test = train_test_split(prices,shuffle=False, test_size=0.3)"
   ]
  },
  {
   "cell_type": "code",
   "execution_count": null,
   "id": "778f6a5b-b25c-4402-9fb4-43a61f6baf86",
   "metadata": {},
   "outputs": [],
   "source": [
    "fig, ax = plt.subplots(ncols=2,figsize=(10,5))\n",
    "risk_allocation_chart(MeanVarianceEfficientRisk(target_risk=0.3).fit(prices_train), prices_train,ax=ax[0])\n",
    "risk_allocation_chart(MeanVarianceEfficientRisk(target_risk=0.3).fit(prices_train), prices_test, ax=ax[1])\n",
    "\n",
    "ax[0].set_title('Allocation on train data')\n",
    "ax[1].set_title('Same method results \\n on different allocation on test data')\n",
    "\n",
    "ax[1].set_xlim(ax[0].get_xlim());"
   ]
  },
  {
   "cell_type": "markdown",
   "id": "372b82a4-210c-42d2-9ba2-4a088374bcad",
   "metadata": {},
   "source": [
    "This plots tells us the allocations on train data, once applied to out-of-sample data, may result in impossible satisfaction of constraints. For this reason we must try to optimize the parameters of portfolio methods on many **folds**."
   ]
  },
  {
   "cell_type": "markdown",
   "id": "404c074a-1fff-47bc-aa4d-5e652035f80d",
   "metadata": {},
   "source": [
    "# Cross-validation and backtesting in `scikit-portfolio`\n",
    "\n",
    "The function `portfolio_cross_validate` is very similar to `sklearn.model_selection.cross_validate` but with a few modifications to work in `scikit-portfolio`.\n",
    "The signature is the same though, but the output is always in the form of a `pd.DataFrame`."
   ]
  },
  {
   "cell_type": "code",
   "execution_count": null,
   "id": "05877ec1-2946-49b2-869e-68291c46ca4a",
   "metadata": {},
   "outputs": [],
   "source": [
    "from skportfolio.metrics import sharpe_ratio\n",
    "MinimumVolatility(frequency=1).fit(prices).score(\n",
    "    prices, score_function=lambda x: sharpe_ratio(x,frequency=1, riskfree_rate=0)\n",
    ")"
   ]
  },
  {
   "cell_type": "code",
   "execution_count": null,
   "id": "a5404f79-3627-4f5d-9868-b7ade4eff6a9",
   "metadata": {},
   "outputs": [],
   "source": [
    "dow = load_dataset('dowportfolio')\n",
    "dow"
   ]
  },
  {
   "cell_type": "code",
   "execution_count": null,
   "id": "96a83b68-084d-4fef-9a40-4f25bb87f112",
   "metadata": {},
   "outputs": [],
   "source": [
    "from skportfolio.metrics import backtest\n",
    "portfolios = [\n",
    "    MinimumVolatility(),\n",
    "    MinimumVolatility(risk_estimator=CovarianceExp(span=180)),\n",
    "    MaxSharpe(),\n",
    "    MaxSharpe(l2_gamma=0.1),\n",
    "    MeanVarianceEfficientReturn(target_return=0.55)\n",
    "]\n",
    "\n",
    "backtest(\n",
    "    dow, \n",
    "    weights=[\n",
    "        m.fit(dow).weights_ for m in portfolios\n",
    "    ]\n",
    ").T.style.background_gradient(cmap='RdYlGn',axis=0)"
   ]
  },
  {
   "cell_type": "markdown",
   "id": "5c38398a-853f-4dc5-b251-3227047e45fc",
   "metadata": {},
   "source": [
    "Here we define a simple function to show the portfolio allocation"
   ]
  },
  {
   "cell_type": "code",
   "execution_count": null,
   "id": "ffb5265e-c615-4a02-bab7-d1fc2a67a812",
   "metadata": {},
   "outputs": [],
   "source": [
    "from typing import Iterable\n",
    "def portfolio_allocation_chart(weights: Iterable[pd.Series]):\n",
    "    sns.heatmap(\n",
    "        pd.concat((w for w in weights),axis=1).mul(100).round(1)\n",
    "    )\n",
    "\n",
    "portfolio_allocation_chart(\n",
    "    [\n",
    "        m.fit(dow).weights_ for m in portfolios\n",
    "    ]\n",
    ")"
   ]
  },
  {
   "cell_type": "markdown",
   "id": "32d56ee7-80c6-451a-9c10-c132dde36b3a",
   "metadata": {},
   "source": [
    "`scikit-portfolio` offers a way to perform cross-validation of metrics over a number of folds. It's very similar to `sklearn.model_selection.cross_validate`."
   ]
  },
  {
   "cell_type": "code",
   "execution_count": null,
   "id": "cb9f4aec",
   "metadata": {},
   "outputs": [],
   "source": [
    "from skportfolio.model_selection import portfolio_cross_validate,KFold\n",
    "from sklearn.model_selection import LeavePOut\n",
    "from skportfolio.metrics import all_scorers # all the scorers obtained from the metrics (they encode automatically if greater or smaller is better)\n",
    "\n",
    "cv_results = portfolio_cross_validate(\n",
    "    estimator=portfolios,\n",
    "    prices_or_returns=dow,\n",
    "    cv=KFold(10),\n",
    "    scoring=all_scorers,\n",
    "    n_jobs=8,\n",
    ")"
   ]
  },
  {
   "cell_type": "markdown",
   "id": "46b6fb22-dd9e-4121-ac69-173877696999",
   "metadata": {},
   "source": [
    "P.S. To be plotted meaningfully in seaborn here some reshaping of the table is in order"
   ]
  },
  {
   "cell_type": "code",
   "execution_count": null,
   "id": "cc0fe910-ad95-4a8a-aa71-5d059225a611",
   "metadata": {},
   "outputs": [],
   "source": [
    "cv_results_reshaped = (\n",
    "    cv_results\n",
    "    .filter(like='test_', axis=1)\n",
    "    .reset_index()\n",
    "    .stack()\n",
    "    .drop('fold',axis=1)\n",
    "    .stack()\n",
    "    .droplevel(0, axis=0)\n",
    "    .swaplevel()\n",
    "    .reset_index()\n",
    "    .rename(columns={'level_0':'variable','level_1':'variable',0:'value'})\n",
    ")\n",
    "cv_results_reshaped"
   ]
  },
  {
   "cell_type": "markdown",
   "id": "276a0a6b-bcb5-41f1-aaa4-eea41fe0fbf2",
   "metadata": {},
   "source": [
    "Here the Box and Whiskers plot is done over the number of folds in the `cv_results`, hence 12 folds."
   ]
  },
  {
   "cell_type": "code",
   "execution_count": null,
   "id": "630a09d7-f8a6-4081-b8b6-b34ca82a692c",
   "metadata": {
    "tags": []
   },
   "outputs": [],
   "source": [
    "sns.catplot(\n",
    "    data=cv_results_reshaped,\n",
    "    kind='strip',\n",
    "    col='estimator',\n",
    "    row='variable',\n",
    "    hue='variable',\n",
    "    #orient='vertical',\n",
    "    height=2.5,\n",
    "    aspect=1.5,\n",
    "    y='value',\n",
    "    sharey=False,\n",
    "    margin_titles=True,\n",
    "    facet_kws={'despine':True}\n",
    ")\n",
    "plt.subplots_adjust()\n",
    "plt.tight_layout()"
   ]
  },
  {
   "cell_type": "markdown",
   "id": "89df94a8-2fea-4137-a774-b05c31f4ea74",
   "metadata": {},
   "source": [
    "# Hyperparameter optimization in `scikit-portfolio`\n",
    "\n",
    "One of the great things about this library is the possibility to perform cross-validation based hyperparameters optimization!"
   ]
  },
  {
   "cell_type": "code",
   "execution_count": null,
   "id": "7f4eafff-5045-4d55-8f46-3159a026ccf8",
   "metadata": {},
   "outputs": [],
   "source": [
    "from sklearn.model_selection import GridSearchCV, train_test_split\n",
    "\n",
    "dow_train, dow_test = train_test_split(dow, test_size=0.2, shuffle=False)\n",
    "# define a base portfolio estimator whose parameters we want to estimate\n",
    "baseline_ptf = MinimumVolatility()"
   ]
  },
  {
   "cell_type": "markdown",
   "id": "e5c11aad-ee13-40c4-a9aa-6e9388d617a2",
   "metadata": {},
   "source": [
    "## Instead of grid-search we use RandomizedSearchCV for faster exploration of hyperparameters"
   ]
  },
  {
   "cell_type": "code",
   "execution_count": null,
   "id": "d5cc0d07-6d42-4056-966c-05866e5d4c18",
   "metadata": {},
   "outputs": [],
   "source": [
    "from sklearn.model_selection import RandomizedSearchCV\n",
    "from scipy.stats import uniform, loguniform\n",
    "\n",
    "rand_cv_ptf = RandomizedSearchCV(\n",
    "    estimator = baseline_ptf,\n",
    "    n_iter=512,\n",
    "    cv=KFold(4),\n",
    "    param_distributions=dict(l2_gamma=loguniform(a=10**-5, b=10**2)),\n",
    "    scoring = all_scorers['omega_ratio'],\n",
    "    refit=True,\n",
    "    n_jobs=15\n",
    ").fit(dow_train)"
   ]
  },
  {
   "cell_type": "code",
   "execution_count": null,
   "id": "e97c4033-1177-4f70-b572-e92af235b8cb",
   "metadata": {},
   "outputs": [],
   "source": [
    "fig, ax = plt.subplots(figsize=(8,5))\n",
    "plot_frontier(\n",
    "    baseline_ptf,\n",
    "    dow_train,\n",
    "    frontier_line_color=\"C0\",\n",
    "    ax=ax\n",
    ")\n",
    "\n",
    "plot_frontier(\n",
    "    ptf_estimator=rand_cv_ptf.best_estimator_,\n",
    "    prices_or_returns=dow_train,\n",
    "    num_portfolios=100,\n",
    "    frontier_line_color=\"C2\",\n",
    "    risk_return_color=\"C2\",\n",
    "    ax=ax\n",
    ")\n",
    "ax.grid(True)"
   ]
  },
  {
   "cell_type": "markdown",
   "id": "beea4e43-34e0-420f-9783-933224f34171",
   "metadata": {},
   "source": [
    "Then the best estimator can be found and compared with the baseline."
   ]
  },
  {
   "cell_type": "code",
   "execution_count": null,
   "id": "dea9f35e-b039-4e6a-929a-475a4c8a7e27",
   "metadata": {},
   "outputs": [],
   "source": [
    "from skportfolio.metrics import equity_curve"
   ]
  },
  {
   "cell_type": "code",
   "execution_count": null,
   "id": "e128bf6a-8d0e-499c-9e06-016b682656b9",
   "metadata": {},
   "outputs": [],
   "source": [
    "from skportfolio import EquallyWeighted\n",
    "\n",
    "fig, ax = plt.subplots(ncols=2,figsize=(14,5))\n",
    "##################################################\n",
    "equity_curve(baseline_ptf.fit(dow_train).predict(dow_train)).plot(label='baseline',ax=ax[0])\n",
    "equity_curve(rand_cv_ptf.best_estimator_.predict(dow_train)).plot(label='optimized',ax=ax[0])\n",
    "equity_curve(EquallyWeighted().fit(dow_train).predict(dow_train)).plot(label='EW',ax=ax[0])\n",
    "ax[0].set_title('Train set performance')\n",
    "ax[0].legend()\n",
    "\n",
    "equity_curve(baseline_ptf.fit(dow_train).predict(dow_test)).plot(label='baseline',ax=ax[1])\n",
    "equity_curve(rand_cv_ptf.best_estimator_.predict(dow_test)).plot(label='optimized',ax=ax[1])\n",
    "equity_curve(EquallyWeighted().fit(dow_train).predict(dow_test)).plot(label='EW',ax=ax[1])\n",
    "ax[1].legend()\n",
    "ax[1].set_title('Out-of-sample performance')\n",
    "\n",
    "ax[0].grid()\n",
    "ax[1].grid()\n",
    "plt.subplots_adjust()\n",
    "plt.tight_layout()"
   ]
  },
  {
   "cell_type": "markdown",
   "id": "cb6bc5c3-ad31-4063-9599-54133159835b",
   "metadata": {},
   "source": [
    "But to make sure, looking at prices is not the best way to compare performances of portfolios. You should create a tearsheet."
   ]
  },
  {
   "cell_type": "code",
   "execution_count": null,
   "id": "07579027-d6b0-4e86-82d2-88e20e8ddf21",
   "metadata": {},
   "outputs": [],
   "source": [
    "pd.concat([\n",
    "        baseline_ptf.weights_,\n",
    "        rand_cv_ptf.best_estimator_.weights_,\n",
    "        EquallyWeighted().fit(dow_train).weights_        \n",
    "    ],axis=1\n",
    ")"
   ]
  },
  {
   "cell_type": "code",
   "execution_count": null,
   "id": "a0606590-6e0a-4c07-abd3-25aee900e52a",
   "metadata": {},
   "outputs": [],
   "source": [
    "from skportfolio.metrics import backtest\n",
    "\n",
    "bt = backtest(\n",
    "    prices=dow_train,\n",
    "    weights=[\n",
    "        baseline_ptf.weights_,\n",
    "        #rand_cv_ptf.best_estimator_.weights_,\n",
    "        #EquallyWeighted().fit(dow_train).weights_        \n",
    "    ],\n",
    "    frequency=1\n",
    ")"
   ]
  },
  {
   "cell_type": "markdown",
   "id": "90647ece-9b09-4227-b92c-8379c0fb1be0",
   "metadata": {},
   "source": [
    "# Portfolio optimization with the Omega ratio\n",
    "\n",
    "Here is an illustration of the Omega ratio: the ratio between the green and the red areas in the cumulative returns distribution.\n",
    "\n",
    "![](https://scikit-portfolio.github.io/scikit-portfolio/imgs/omega_ratio.svg)\n",
    "\n",
    "Like the `OmegaRatio` frontier we try to maximize the OmegaRatio directly, and additional hyperparameters minimizing the annual volatility!\n",
    "\n",
    "At the denominator we have the **red** area (omega risk, x-axis) while at the numerator the **green** area (reward)."
   ]
  },
  {
   "cell_type": "code",
   "execution_count": null,
   "id": "9eb02ccd-3b28-41c6-8025-3134a0af9444",
   "metadata": {},
   "outputs": [],
   "source": [
    "# in setting the minimum acceptable return for omega ratio portfolio, you could start from the median of the mean returns\n",
    "mar = dow_train.pct_change().mean().mean()"
   ]
  },
  {
   "cell_type": "code",
   "execution_count": null,
   "id": "c84c7753-0d9c-4fbe-8846-56ade4a4345c",
   "metadata": {},
   "outputs": [],
   "source": [
    "from skportfolio.frontier import MaxOmegaRatio\n",
    "plt.style.use('default')\n",
    "plot_frontier(\n",
    "    MaxOmegaRatio(minimum_acceptable_return=mar).fit(dow),\n",
    "    dow,\n",
    "    #show_assets=True\n",
    ")\n",
    "plt.grid(False)"
   ]
  },
  {
   "cell_type": "markdown",
   "id": "bb3c0060-e9a4-4bd0-b893-cd4ead1aef6e",
   "metadata": {},
   "source": [
    "P.S. Here the minimim acceptable return is in daily terms!"
   ]
  },
  {
   "cell_type": "code",
   "execution_count": null,
   "id": "6b496bb8-daa0-4af1-a3ca-24116c22f1a5",
   "metadata": {},
   "outputs": [],
   "source": [
    "rand_cv_omega_ptf = RandomizedSearchCV(\n",
    "    estimator = MaxOmegaRatio(),\n",
    "    n_iter=512,\n",
    "    cv=KFold(4),\n",
    "    param_distributions=dict(minimum_acceptable_return=uniform(mar*0.8, mar*1.5)),\n",
    "    scoring = all_scorers['omega_ratio'],\n",
    "    refit=True,\n",
    "    n_jobs=15\n",
    ").fit(dow_train)"
   ]
  },
  {
   "cell_type": "code",
   "execution_count": null,
   "id": "391e81d8-a69a-4fb2-a26e-5229b0099af9",
   "metadata": {},
   "outputs": [],
   "source": [
    "fig, ax = plt.subplots(figsize=(12,5))\n",
    "equity_curve(MaxOmegaRatio(minimum_acceptable_return=mar).fit(dow_train).predict(dow_train)).plot()\n",
    "equity_curve(rand_cv_omega_ptf.predict(dow_train)).plot()\n",
    "equity_curve(MaxSharpe().fit(dow_train).predict(dow_train)).plot()\n",
    "equity_curve(MinimumVolatility().fit(dow_train).predict(dow_train)).plot()\n",
    "plt.legend()\n",
    "plt.grid()"
   ]
  },
  {
   "cell_type": "markdown",
   "id": "97cd561e-5da4-45a6-972c-46e3964b40f3",
   "metadata": {},
   "source": [
    "Interestingly, the MaxOmega ratio itself has an efficient frontier that you can plot! You are not limited to Markowitz frontier."
   ]
  },
  {
   "cell_type": "code",
   "execution_count": null,
   "id": "24daead9-c043-4eea-9045-8802e964c138",
   "metadata": {},
   "outputs": [],
   "source": [
    "plot_frontier(\n",
    "    ptf_estimator=rand_cv_omega_ptf.best_estimator_,\n",
    "    prices_or_returns=dow_train\n",
    ")"
   ]
  },
  {
   "cell_type": "markdown",
   "id": "827cf366-b93d-4b7b-aa5d-91c8912ac703",
   "metadata": {},
   "source": [
    "# Mean Absolute Deviation portfolio"
   ]
  },
  {
   "cell_type": "markdown",
   "id": "250528d4-c35f-4598-a49c-6536ce862d62",
   "metadata": {},
   "source": [
    "Also the MeanAbsoluteDeviation frontier is available!\n",
    "You can see how it compares with the minimum volatility portfolio, in fact they are pretty similar.\n",
    "\n",
    "This is a small comparison in terms of equity curves for different portfolio strategies.\n",
    "There is no rebalancing here."
   ]
  },
  {
   "cell_type": "code",
   "execution_count": null,
   "id": "0708358c-cc69-42d3-9a53-6c56327617d5",
   "metadata": {},
   "outputs": [],
   "source": [
    "from skportfolio import MinimumMAD\n",
    "\n",
    "fig, ax = plt.subplots(figsize=(12,5))\n",
    "equity_curve(MaxOmegaRatio(minimum_acceptable_return=mar).fit(dow_train).predict(dow_train)).plot()\n",
    "equity_curve(rand_cv_omega_ptf.predict(dow_train)).plot()\n",
    "equity_curve(MaxSharpe().fit(dow_train).predict(dow_train)).plot()\n",
    "equity_curve(MinimumVolatility().fit(dow_train).predict(dow_train)).plot()\n",
    "equity_curve(MinimumMAD().fit(dow_train).predict(dow_train)).plot()\n",
    "plt.legend()\n",
    "plt.grid()"
   ]
  },
  {
   "cell_type": "markdown",
   "id": "578ffd1d-08cc-49e0-a776-fd83d3e7bfea",
   "metadata": {},
   "source": [
    "Also for MeanAbsoluteDeviation portfolio you can display the efficient frontier. In this case on the x-axis you have the *Mean Absolute Deviation*, i.e. the following quantity:\n",
    "\n",
    "$$\n",
    "\\mathbb{E} \\left \\lbrack \\left| (\\mathbf{R}  - \\boldsymbol \\mu)^T \\mathbf{w} \\right| \\right\\rbrack = \\frac{1}{T} \\sum_{t=1}^T \\sum_{i=1}^N \\bigl| (R_{t,i} - \\mu_i) w_i \\bigr|\n",
    "$$\n",
    "\n",
    "which is another measure of portfolio volatility."
   ]
  },
  {
   "cell_type": "code",
   "execution_count": null,
   "id": "9cfd1520-82fe-48e8-a930-74f1ea88ce9f",
   "metadata": {},
   "outputs": [],
   "source": [
    "from skportfolio import MADEfficientReturn\n",
    "ax = plot_frontier(\n",
    "    MinimumMAD().fit(dow_train),\n",
    "    dow_train,\n",
    "    frontier_line_color='green',\n",
    "    risk_return_color='green'\n",
    ")\n",
    "\n",
    "plot_frontier(\n",
    "    MADEfficientReturn(target_return=0.0022).fit(dow_train),\n",
    "    dow_train,\n",
    "    frontier_line_color='indianred',\n",
    "    show_assets=True,\n",
    "    ax=ax\n",
    ")\n",
    "ax.grid(True)"
   ]
  },
  {
   "cell_type": "markdown",
   "id": "61fdf41d-5a08-488a-95cb-9ca66b3faccc",
   "metadata": {},
   "source": [
    "# Exploring different risk estimators through cross-validation"
   ]
  },
  {
   "cell_type": "code",
   "execution_count": null,
   "id": "5dd95737-5b50-45c4-8f1e-8e50ba1a7b4f",
   "metadata": {},
   "outputs": [],
   "source": [
    "from skportfolio.riskreturn import all_risk_estimators\n",
    "all_risk_estimators"
   ]
  },
  {
   "cell_type": "code",
   "execution_count": null,
   "id": "5d503c2a-a55d-4039-bfb5-e636e67eccf1",
   "metadata": {},
   "outputs": [],
   "source": [
    "min_vol_cv = GridSearchCV(\n",
    "    estimator = MinimumVolatility(),\n",
    "    param_grid={\n",
    "        'risk_estimator':\n",
    "        all_risk_estimators\n",
    "    },\n",
    "    scoring = all_scorers['sharpe_ratio'],\n",
    "    cv=KFold(10)\n",
    ").fit(dow_train)"
   ]
  },
  {
   "cell_type": "code",
   "execution_count": null,
   "id": "930be812-7881-481d-93cf-407212cc78cc",
   "metadata": {},
   "outputs": [],
   "source": [
    "backtest(\n",
    "    dow_test,\n",
    "    weights=[MinimumVolatility().fit(dow_train).weights_, min_vol_cv.best_estimator_.weights_]\n",
    ")"
   ]
  },
  {
   "cell_type": "code",
   "execution_count": null,
   "id": "e75d9a68-5840-4ddf-8350-04a0ea2e0d0c",
   "metadata": {},
   "outputs": [],
   "source": [
    "fig, ax = plt.subplots(figsize=(12,5))\n",
    "equity_curve(MinimumVolatility().fit(dow_train).predict(dow_test)).plot(ax=ax)\n",
    "equity_curve(min_vol_cv.predict(dow_test)).plot(ax=ax)\n",
    "plt.grid()\n",
    "plt.legend()"
   ]
  },
  {
   "cell_type": "markdown",
   "id": "19d70dd1-b470-4ec6-a847-55a6b8314aa9",
   "metadata": {},
   "source": [
    "# Hyperparameters optimization with Optuna"
   ]
  },
  {
   "cell_type": "code",
   "execution_count": null,
   "id": "ae55c3af-4642-4a93-9c3f-212fa6f4f5ef",
   "metadata": {},
   "outputs": [],
   "source": [
    "dow.pct_change().max().max()"
   ]
  },
  {
   "cell_type": "code",
   "execution_count": null,
   "id": "56f55119-b118-47ed-8e95-58aa4fd76cf8",
   "metadata": {},
   "outputs": [],
   "source": [
    "import warnings\n",
    "from optuna.integration import OptunaSearchCV\n",
    "from optuna.distributions import BaseDistribution\n",
    "from optuna.distributions import CategoricalDistribution\n",
    "from optuna.distributions import LogUniformDistribution\n",
    "from optuna.distributions import UniformDistribution\n",
    "from skportfolio.metrics import *\n",
    "\n",
    "optuna_parameters = {\n",
    "    \"l2_gamma\": LogUniformDistribution(low=1E-5, high=1E1),\n",
    "    #\"minimum_acceptable_return\": UniformDistribution(low=0,high=0.1)\n",
    "}\n",
    "\n",
    "with warnings.catch_warnings():\n",
    "    warnings.simplefilter(\"ignore\")\n",
    "    optuna_cv = OptunaSearchCV(\n",
    "        estimator=MinimumVolatility(frequency=1),\n",
    "        param_distributions=optuna_parameters,\n",
    "        cv=KFold(10),\n",
    "        n_jobs=16,\n",
    "        n_trials=32,\n",
    "        scoring=all_scorers['sharpe_ratio'],\n",
    "        verbose=False\n",
    "    ).fit(dow_train)"
   ]
  },
  {
   "cell_type": "code",
   "execution_count": null,
   "id": "667d459a-da75-46d3-8a2f-a359569031a5",
   "metadata": {},
   "outputs": [],
   "source": [
    "optuna_cv.best_estimator_"
   ]
  },
  {
   "cell_type": "code",
   "execution_count": null,
   "id": "128d491e-3260-4a40-bfa2-c8fdfa0e5ebd",
   "metadata": {},
   "outputs": [],
   "source": [
    "fig, ax = plt.subplots(figsize=(15,4))\n",
    "equity_curve(MinimumVolatility().fit(dow_train).predict(dow_train)).plot(ax=ax)\n",
    "equity_curve(optuna_cv.best_estimator_.predict(dow_train)).plot(ax=ax)\n",
    "plt.legend()\n",
    "plt.grid()"
   ]
  },
  {
   "cell_type": "code",
   "execution_count": null,
   "id": "2816d527-0e38-4e80-9674-96dacc5cc19d",
   "metadata": {},
   "outputs": [],
   "source": [
    "backtest(\n",
    "    dow_train,\n",
    "    [\n",
    "        MinimumVolatility().fit(dow_train).weights_,\n",
    "         optuna_cv.best_estimator_.weights_\n",
    "    ],\n",
    "    frequency=1\n",
    ")"
   ]
  }
 ],
 "metadata": {
  "kernelspec": {
   "display_name": "Python 3 (ipykernel)",
   "language": "python",
   "name": "python3"
  },
  "language_info": {
   "codemirror_mode": {
    "name": "ipython",
    "version": 3
   },
   "file_extension": ".py",
   "mimetype": "text/x-python",
   "name": "python",
   "nbconvert_exporter": "python",
   "pygments_lexer": "ipython3",
   "version": "3.10.12"
  },
  "toc-autonumbering": true
 },
 "nbformat": 4,
 "nbformat_minor": 5
}
