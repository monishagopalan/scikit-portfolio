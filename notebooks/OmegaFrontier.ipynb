{
 "cells": [
  {
   "cell_type": "code",
   "execution_count": null,
   "id": "e6757953-ae87-484e-882b-bee1d86bdb5e",
   "metadata": {},
   "outputs": [],
   "source": [
    "%reload_ext autoreload\n",
    "%autoreload 2"
   ]
  },
  {
   "cell_type": "code",
   "execution_count": null,
   "id": "57b80daa-1d96-466e-b940-190a94723308",
   "metadata": {},
   "outputs": [],
   "source": [
    "from skportfolio.data import load_tech_stock_prices\n",
    "prices = load_tech_stock_prices()"
   ]
  },
  {
   "cell_type": "code",
   "execution_count": null,
   "id": "c9d460e3-f565-4cd4-ac29-3e189cd4147e",
   "metadata": {},
   "outputs": [],
   "source": [
    "from pypfopt.plotting import plot_efficient_frontier"
   ]
  },
  {
   "cell_type": "code",
   "execution_count": null,
   "id": "c4985030-7dd4-4b8e-853f-a25a83c91470",
   "metadata": {},
   "outputs": [],
   "source": [
    "from pypfopt.expected_returns import mean_historical_return"
   ]
  },
  {
   "cell_type": "code",
   "execution_count": null,
   "id": "30badadf-85d0-4048-8f3d-4a5fc8732d31",
   "metadata": {},
   "outputs": [],
   "source": [
    "import numpy as np"
   ]
  },
  {
   "cell_type": "code",
   "execution_count": null,
   "id": "cd6a1df2-258a-48f1-8be5-900ada87d7f9",
   "metadata": {},
   "outputs": [],
   "source": [
    "import matplotlib.pyplot as plt\n",
    "import matplotlib as mpl\n",
    "import seaborn as sns\n",
    "sns.set_context(\"notebook\")\n",
    "sns.set(font=\"Arial\")\n",
    "plt.style.use('ggplot')\n",
    "sns.set_style('ticks')\n",
    "%config InlineBackend.figure_format=\"svg\"\n",
    "mpl.rcParams[\"figure.autolayout\"] = True\n",
    "\n",
    "mpl.rcParams['font.family'] = 'Arial'"
   ]
  },
  {
   "cell_type": "markdown",
   "id": "b0d677ff-aa25-4721-9f90-bc0e2dae7bb4",
   "metadata": {},
   "source": [
    "# Plotting Omega ratio figures\n",
    "\n",
    "Definition of Omega ratio:\n",
    "\n",
    "\\begin{equation}\n",
    "\\Omega(r) = \\dfrac{\\int_{\\tau}^\\infty (1-F(r)) dr}{\\int_{-\\infty}^{\\tau} F(r) dr}.\n",
    "\\end{equation}\n",
    "\n",
    "Operative definition:\n",
    "\n",
    "\\begin{equation}\n",
    "\\Omega(r_P) = \\dfrac{\\mathbf{w}^T \\boldsymbol \\mu - \\tau}{\\left<  (\\tau - \\mathbf{w}^T \\mathbf{R})^+ \\right >} + 1\n",
    "\\end{equation}"
   ]
  },
  {
   "cell_type": "code",
   "execution_count": null,
   "id": "bb3e4386-ac79-4b33-9d74-292382f5ed19",
   "metadata": {},
   "outputs": [],
   "source": [
    "from scipy.special import expit\n",
    "x = np.linspace(-0.05,0.05,100)\n",
    "tau=0.0015\n",
    "y=expit(500*x)\n",
    "plt.plot(x,y,color='k')\n",
    "plt.xlim([-0.02,0.025])\n",
    "plt.axvline(x=tau, linestyle='-.', color='k', linewidth=0.5)\n",
    "plt.annotate(' cutoff τ', xy=(tau*1.1,0.65))\n",
    "plt.ylim([0,1])\n",
    "plt.title('Graphical illustration of Omega ratio', fontsize=10)\n",
    "plt.fill_between(x[0:52], y1=0, y2=expit(500*x[0:52]), color='green', alpha=0.5)\n",
    "plt.fill_between(x[51:], y1=expit(500*x[51:]), y2=1, color='indianred')\n",
    "plt.xlabel('Returns')\n",
    "plt.ylabel('Frequency')\n",
    "plt.grid('both')\n",
    "plt.savefig('docs/imgs/omega_ratio.svg',bbox_inches='tight')"
   ]
  },
  {
   "cell_type": "markdown",
   "id": "ee799aff-01cb-4d3d-bbd4-d9638202f71f",
   "metadata": {},
   "source": [
    "# Plotting Omega ratio frontier\n",
    "\n",
    "\\begin{split}\n",
    "\\begin{equation*}\n",
    "\\begin{aligned}\n",
    "\\textrm{Omega numerator} =& \\mathbf{w}^T \\boldsymbol \\mu - \\tau \\\\\n",
    "\\textrm{Omega denominator} =& \\sum_{t=1}^T \\max \\left( \\tau - \\mathbf{w}^T R_t, 0 \\right )\n",
    "\\end{aligned}\n",
    "\\end{equation*}\n",
    "\\end{split}"
   ]
  },
  {
   "cell_type": "code",
   "execution_count": null,
   "id": "fb3ed72d-a11d-4c79-92a5-d76e0aa9db94",
   "metadata": {},
   "outputs": [],
   "source": [
    "x=np.linspace(0,5,1000)\n",
    "fig,ax = plt.subplots()\n",
    "ax.plot(x,np.sqrt(x), color='gray', label='omega frontier')\n",
    "ax.plot(x,(1+x)*0.5,color='k',linestyle='-.',label='tangent line')\n",
    "ax.tick_params(\n",
    "    axis='x',          # changes apply to the x-axis\n",
    "    which='both',      # both major and minor ticks are affected\n",
    "    bottom=False,      # ticks along the bottom edge are off\n",
    "    top=False,         # ticks along the top edge are off\n",
    "    labelbottom=False\n",
    ")\n",
    "ax.tick_params(\n",
    "    axis='y',          # changes apply to the x-axis\n",
    "    which='both',      # both major and minor ticks are affected\n",
    "    left=False,      # ticks along the bottom edge are off\n",
    "    right=False,         # ticks along the top edge are off\n",
    "    labelleft=False\n",
    ") # labels along th\n",
    "ax.set_xlabel('Omega risk (denominator)', fontsize=10)\n",
    "ax.set_ylabel('Omega reward (numerator)', fontsize=10)\n",
    "ax.set_title('Omega frontier', fontsize=12)\n",
    "plt.scatter(x=[1], y=[1], label='tangent point')\n",
    "plt.legend()\n",
    "#plt.savefig('docs/imgs/omega_frontier.svg', bbox_inches='tight')"
   ]
  },
  {
   "cell_type": "code",
   "execution_count": null,
   "id": "44fbc13c-b8e2-4944-972c-6ac79f311cff",
   "metadata": {},
   "outputs": [],
   "source": [
    "from skportfolio._omega import *\n",
    "from skportfolio import OmegaEfficientReturn,MaxOmegaRatio,OmegaEfficientRisk\n",
    "from pypfopt.expected_returns import mean_historical_return,returns_from_prices\n",
    "from skportfolio._efficientfrontier import MinimumOmegaRisk"
   ]
  },
  {
   "cell_type": "code",
   "execution_count": null,
   "id": "f4fd2e5b-b2b0-41ae-9c2e-dc94776eb9da",
   "metadata": {},
   "outputs": [],
   "source": [
    "mu = mean_historical_return(prices,returns_data=False, compounding=False, log_returns=False)\n",
    "returns = returns_from_prices(prices)"
   ]
  },
  {
   "cell_type": "code",
   "execution_count": null,
   "id": "5b032d16-5099-41a3-abb7-8cb48298192c",
   "metadata": {},
   "outputs": [],
   "source": [
    "from skportfolio import MinimumOmegaRisk\n",
    "omega_risk(MinimumOmegaRisk(minimum_acceptable_return=tau).fit(prices).weights_,returns,tau)"
   ]
  },
  {
   "cell_type": "code",
   "execution_count": null,
   "id": "5187369d-ad26-4139-8d45-299de0df3162",
   "metadata": {},
   "outputs": [],
   "source": [
    "from pypfopt.plotting import plot_efficient_frontier\n",
    "from skportfolio import MinimumOmegaRisk\n",
    "\n",
    "tau = 0.0\n",
    "\n",
    "wmin = MinimumOmegaRisk(minimum_acceptable_return=tau).fit(prices).weights_\n",
    "min_omega_risk = omega_risk(\n",
    "    wmin,\n",
    "    returns,\n",
    "    tau\n",
    ")\n",
    "\n",
    "max_omega_risk = omega_risk(pd.Series(index=returns.columns,data=(mu==mu.max()).astype(float)),returns,tau)\n",
    "wmax = MaxOmegaRatio(minimum_acceptable_return=tau).fit(prices).weights_\n",
    "\n",
    "num, den = [], []\n",
    "x = np.linspace(0, np.max(mu)*2, 200)\n",
    "\n",
    "for r in x:\n",
    "    w = OmegaEfficientReturn(\n",
    "        minimum_acceptable_return=tau\n",
    "    ).set_target_return(r).fit(prices).weights_\n",
    "    \n",
    "    num.append(omega_reward(w, mu, tau))\n",
    "    den.append(omega_risk(w, returns, tau))"
   ]
  },
  {
   "cell_type": "code",
   "execution_count": null,
   "id": "50fe2c71-ee8b-4743-b75a-09ca8da288ff",
   "metadata": {},
   "outputs": [],
   "source": [
    "from skportfolio.metrics import omega_ratio, portfolio_return"
   ]
  },
  {
   "cell_type": "code",
   "execution_count": null,
   "id": "d4287dcb-06d5-4434-883c-d51ca95d360d",
   "metadata": {},
   "outputs": [],
   "source": [
    "from skportfolio._base import EquallyWeighted"
   ]
  },
  {
   "cell_type": "code",
   "execution_count": null,
   "id": "050280e7-7754-4302-b041-80cabba3af69",
   "metadata": {},
   "outputs": [],
   "source": [
    "fig, ax = plt.subplots()\n",
    "ax.plot(den, num, color='k')\n",
    "#ax.fill_between(x=den, y1=0, y2=num, color='indianred')\n",
    "ax.set_xlabel('Omega risk (denominator)', fontsize=10)\n",
    "ax.set_ylabel('Omega reward (numerator)', fontsize=10)\n",
    "ax.set_title('Omega frontier', fontsize=12)\n",
    "\n",
    "slope = (omega_reward(wmax,mu,tau)/omega_risk(wmax,returns,tau))\n",
    "xstar = np.linspace(0.4,0.6)\n",
    "ax.plot(xstar/slope,xstar,label='tangent line',color='grey',linestyle='-.')\n",
    "ax.scatter(x=omega_risk(wmax,returns,tau), y=omega_reward(wmax,mu,tau), color='blue',label=f'Max $\\Omega$ = {omega_ratio(prices.dot(wmax).pct_change().dropna()):.2f}')\n",
    "ax.scatter(x=omega_risk(wmin,returns,tau), y=omega_reward(wmin,mu,tau), color='green',label='Min Omega Risk')\n",
    "\n",
    "for w in np.random.rand(200,returns.shape[1]):\n",
    "    w = pd.Series(index=returns.columns,data=w/w.sum())\n",
    "    ax.scatter(x=omega_risk(w,returns,tau), y=omega_reward(w,mu,tau),s=1, color='darkred')\n",
    "\n",
    "# equally weighted\n",
    "ax.scatter(\n",
    "    x=omega_risk(EquallyWeighted().fit(prices).weights_,returns,tau), \n",
    "    y=omega_reward(EquallyWeighted().fit(prices).weights_,mu,tau),\n",
    "    color='gold',\n",
    "    label='Equally weighted'\n",
    ")\n",
    "    \n",
    "for i,w in enumerate(np.eye(returns.shape[1])):\n",
    "    w = pd.Series(index=returns.columns,data=w/w.sum())\n",
    "    ax.scatter(x=omega_risk(w,returns,tau), y=omega_reward(w,mu,tau), color='darkred')\n",
    "    ax.annotate(text=returns.columns[i], xy=(omega_risk(w,returns,tau), omega_reward(w,mu,tau)))\n",
    "ax.legend()\n",
    "ax.set_xlim([min_omega_risk*0.9, max_omega_risk*1.1])\n",
    "\n",
    "plt.savefig('docs/imgs/omega_frontier_real.svg',bbox_inches='tight')"
   ]
  },
  {
   "cell_type": "code",
   "execution_count": null,
   "id": "5097756f-0967-4686-a634-363c1c5d7d8f",
   "metadata": {},
   "outputs": [],
   "source": [
    "from skportfolio import PerturbedReturns, MaxOmegaRatio, MichaudResampledFrontier"
   ]
  },
  {
   "cell_type": "code",
   "execution_count": null,
   "id": "d61f7636-207c-45ed-a44f-e22ec89a91ed",
   "metadata": {},
   "outputs": [],
   "source": [
    "estimator = MaxOmegaRatio()"
   ]
  },
  {
   "cell_type": "code",
   "execution_count": null,
   "id": "85013511-01cf-43d1-bba2-ca9633866a5a",
   "metadata": {},
   "outputs": [],
   "source": [
    "estimator.risk_estimator"
   ]
  },
  {
   "cell_type": "code",
   "execution_count": null,
   "id": "99d32130-8b26-4a97-8d43-e2545fe1c79f",
   "metadata": {},
   "outputs": [],
   "source": [
    "ensemble = MichaudResampledFrontier(\n",
    "    ptf_estimator=MaxOmegaRatio(),\n",
    "    n_iter=256,\n",
    "    n_jobs=-1\n",
    ").fit(prices)"
   ]
  },
  {
   "cell_type": "code",
   "execution_count": null,
   "id": "a7c766f0-0424-4c3e-9b1a-acdf41f8f05a",
   "metadata": {},
   "outputs": [],
   "source": [
    "from skportfolio._efficientfrontier import MinimumOmegaRisk"
   ]
  },
  {
   "cell_type": "code",
   "execution_count": null,
   "id": "cebcaa5b-9488-4587-b474-7d6fbbcd805c",
   "metadata": {},
   "outputs": [],
   "source": [
    "from skportfolio import *\n",
    "import matplotlib.pyplot as plt\n",
    "plt.figure()\n",
    "prices.dot(ensemble.weights_.values.T).plot(label='Ensemble Omega')\n",
    "prices.dot(MaxOmegaRatio().fit(prices).weights_.values.T).plot(label='Max Omega')\n",
    "prices.dot(MaxSharpe().fit(prices).weights_.values.T).plot(label='Sharpe')\n",
    "plt.legend()\n",
    "\n",
    "############\n",
    "plt.figure()\n",
    "prices.dot(ensemble.weights_.values.T).pct_change().hist(bins=200,label='Ensemble Omega',alpha=0.5)\n",
    "prices.dot(MaxOmegaRatio().fit(prices).weights_.values.T).pct_change().hist(bins=200,label='Max Omega',alpha=0.5)\n",
    "prices.dot(MaxSharpe().fit(prices).weights_.values.T).pct_change().hist(bins=200,label='Sharpe',alpha=0.5)\n",
    "plt.legend()"
   ]
  },
  {
   "cell_type": "code",
   "execution_count": null,
   "id": "29675518-5587-4ef6-b875-59c7d038d81f",
   "metadata": {},
   "outputs": [],
   "source": [
    "prices.dot(MinimumOmegaRisk().fit(prices).weights_.values.T).plot(label='Min Omega')\n",
    "prices.dot(MinimumVolatility().fit(prices).weights_.values.T).plot(label='Min Vol')\n",
    "#prices.dot(MinimumSemiVolatility().fit(prices).weights_.values.T).plot(label='Min SemiVol')\n",
    "#prices.dot(MinimumCDar().fit(prices).weights_.values.T).plot(label='Min CDar')\n",
    "plt.legend()"
   ]
  },
  {
   "cell_type": "code",
   "execution_count": null,
   "id": "0ecd611c-fafa-4c97-ab4a-8589912f24a9",
   "metadata": {},
   "outputs": [],
   "source": [
    "MaxOmegaRatio(rets_estimator=PerturbedReturns()).fit(prices).weights_"
   ]
  },
  {
   "cell_type": "code",
   "execution_count": null,
   "id": "8fde252b-2db1-4d34-a03b-2a386088d61f",
   "metadata": {},
   "outputs": [],
   "source": [
    "ensemble.ptf_estimator._optimizer(prices)"
   ]
  },
  {
   "cell_type": "code",
   "execution_count": null,
   "id": "f50d9baa-1655-4ccc-bb81-f9bba37e14a8",
   "metadata": {},
   "outputs": [],
   "source": [
    "\n",
    "p=PerturbedReturns()"
   ]
  }
 ],
 "metadata": {
  "kernelspec": {
   "display_name": "Python 3",
   "language": "python",
   "name": "python3"
  },
  "language_info": {
   "codemirror_mode": {
    "name": "ipython",
    "version": 3
   },
   "file_extension": ".py",
   "mimetype": "text/x-python",
   "name": "python",
   "nbconvert_exporter": "python",
   "pygments_lexer": "ipython3",
   "version": "3.8.10"
  }
 },
 "nbformat": 4,
 "nbformat_minor": 5
}
