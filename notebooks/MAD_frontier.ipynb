{
 "cells": [
  {
   "cell_type": "code",
   "execution_count": null,
   "id": "ea086a6b-e24b-4eee-8cb2-e6eebd0cfb9c",
   "metadata": {},
   "outputs": [],
   "source": [
    "%reload_ext autoreload\n",
    "%autoreload 2"
   ]
  },
  {
   "cell_type": "code",
   "execution_count": null,
   "id": "cb38b70a-be9d-42b8-99a8-357b38e1ac59",
   "metadata": {},
   "outputs": [],
   "source": [
    "from skportfolio.frontier._mad import EfficientMeanAbsoluteDeviation"
   ]
  },
  {
   "cell_type": "code",
   "execution_count": null,
   "id": "1439e36a-fbbd-45f7-bae0-7a8307f7969a",
   "metadata": {},
   "outputs": [],
   "source": [
    "import matplotlib.pyplot as plt\n",
    "import pandas as pd\n",
    "import numpy as np\n",
    "from pypfopt.expected_returns import prices_from_returns, returns_from_prices\n",
    "from skportfolio.data import load_tech_stock_prices\n",
    "from skportfolio import MeanHistoricalLinearReturns, SampleCovariance, EquallyWeighted\n",
    "\n",
    "import matplotlib as mpl\n",
    "import matplotlib.pyplot as plt\n",
    "\n",
    "import seaborn as sns\n",
    "sns.set_context(\"notebook\")\n",
    "sns.set(font=\"Nimbus Sans\")\n",
    "plt.style.use('ggplot')\n",
    "sns.set_style('ticks')\n",
    "%config InlineBackend.figure_format=\"svg\"\n",
    "mpl.rcParams[\"figure.autolayout\"] = True\n",
    "\n",
    "mpl.rcParams['font.family'] = 'Arial'\n"
   ]
  },
  {
   "cell_type": "code",
   "execution_count": null,
   "id": "9fcd30c7-0af7-4181-811b-41b45b7790c1",
   "metadata": {},
   "outputs": [],
   "source": [
    "m = np.array([ 0.05,  0.1,  0.12,  0.18 ])\n",
    "C = np.array([[ 0.0064, 0.00408, 0.00192, 0,], [0.00408, 0.0289, 0.0204, 0.0119], [0.00192, 0.0204, 0.0576, 0.0336], [0, 0.0119, 0.0336, 0.1225,]])\n",
    "m = m/12\n",
    "C = C/12\n",
    "\n",
    "r = np.random.multivariate_normal(mean=m,cov=C, size=20000)\n",
    "np.savetxt('matlab/mad/returns.txt', r)\n",
    "returns = pd.DataFrame(r, columns=['A','B','C','D'])\n",
    "prices = prices_from_returns(returns)"
   ]
  },
  {
   "cell_type": "code",
   "execution_count": null,
   "id": "0ddc62b6-88f9-4152-9e26-74a2037cb48d",
   "metadata": {},
   "outputs": [],
   "source": [
    "mu = returns.mean()"
   ]
  },
  {
   "cell_type": "markdown",
   "id": "a8ed06e7-0344-49b5-a8cb-847bdc230743",
   "metadata": {},
   "source": [
    "## Calculation of efficient frontier"
   ]
  },
  {
   "cell_type": "code",
   "execution_count": null,
   "id": "068e54ad-971d-479c-a3f8-8c36835bdac8",
   "metadata": {},
   "outputs": [],
   "source": [
    "w_min = pd.Series(\n",
    "    EfficientMeanAbsoluteDeviation(\n",
    "        expected_returns=mu,\n",
    "        returns=returns\n",
    "    ).min_risk(),\n",
    "    index=returns.columns\n",
    ")\n",
    "w_min"
   ]
  },
  {
   "cell_type": "code",
   "execution_count": null,
   "id": "cb0a1351-6c8e-416d-ae9b-50db52d9e5e2",
   "metadata": {},
   "outputs": [],
   "source": [
    "%%timeit\n",
    "N=10\n",
    "\n",
    "w_min = pd.Series(\n",
    "    EfficientMeanAbsoluteDeviation(\n",
    "        expected_returns=mu,\n",
    "        returns=returns\n",
    "    ).min_risk(),\n",
    "    index=returns.columns\n",
    ")\n",
    "min_risk = np.mean(np.abs(w_min@(returns - mu).T))\n",
    "min_ret = w_min.T @ mu\n",
    "rets = np.linspace(min_ret, np.max(mu)-1E-6, N)\n",
    "risks = np.array([np.nan]*N)\n",
    "all_weights = []\n",
    "for i,r in enumerate(rets):\n",
    "    try:\n",
    "        MAD = EfficientMeanAbsoluteDeviation(\n",
    "            expected_returns=mu,\n",
    "            returns=returns\n",
    "        )\n",
    "        weights = pd.Series(\n",
    "            MAD.efficient_return(target_return=r),\n",
    "            index=returns.columns\n",
    "        )\n",
    "        risks[i] = np.mean(np.abs(weights@(returns-mu).T))\n",
    "        all_weights.append(weights)\n",
    "    except Exception as ex:\n",
    "        print(ex)\n",
    "\n",
    "risks = np.array(risks)\n",
    "all_weights = np.array(all_weights)"
   ]
  },
  {
   "cell_type": "code",
   "execution_count": null,
   "id": "dd259e15-7f7d-4710-945d-2c8ae9749d71",
   "metadata": {},
   "outputs": [],
   "source": [
    "all_weights.round(4)"
   ]
  },
  {
   "cell_type": "code",
   "execution_count": null,
   "id": "672887a1-ca1e-4c3e-ae0f-50a19667841f",
   "metadata": {},
   "outputs": [],
   "source": [
    "M = pd.DataFrame(np.loadtxt('matlab/mad/matlab_weights.txt',delimiter=',')).assign(origin='matlab')\n",
    "\n",
    "SK=pd.DataFrame(all_weights).assign(origin='skptf')"
   ]
  },
  {
   "cell_type": "code",
   "execution_count": null,
   "id": "4e761efe-454b-40c9-bb4e-4e0e4c0d0334",
   "metadata": {},
   "outputs": [],
   "source": [
    "pd.DataFrame(\n",
    "    (\n",
    "        (\n",
    "            (\n",
    "                np.loadtxt('matlab/mad/matlab_weights.txt',delimiter=',') - all_weights)\n",
    "        )\n",
    "    )\n",
    ").mul(10000).plot.bar(\n",
    "    ylabel='$\\Delta$ BPS',\n",
    "    xlabel='portfolio',\n",
    "    title='Matlab vs scikit-portfolio'\n",
    ")\n",
    "plt.grid()\n",
    "plt.savefig('docs/imgs/mad_matlab_vs_skportfolio.svg', bbox_inches='tight')"
   ]
  },
  {
   "cell_type": "code",
   "execution_count": null,
   "id": "f1dfcf89-00bf-4257-9877-6038972790e6",
   "metadata": {},
   "outputs": [],
   "source": [
    "plt.plot(risks,rets,'gray')\n",
    "plt.plot(risks,rets,'^',label='scikit-portfolio')\n",
    "plt.plot(\n",
    "    [\n",
    "        np.mean(np.abs(w@(returns-mu).T)) for w in np.loadtxt('matlab/mad/matlab_weights.txt',delimiter=',')\n",
    "    ],\n",
    "    [\n",
    "        w@mu for w in np.loadtxt('matlab/mad/matlab_weights.txt',delimiter=',')\n",
    "    ],\n",
    "    'v',\n",
    "    label='Matlab'\n",
    ")\n",
    "plt.legend()\n",
    "plt.title('Efficient frontier')\n",
    "plt.xlabel('Risk (MAD)')\n",
    "plt.ylabel('Return')\n",
    "for i,(ri,re) in enumerate(zip(risks[1:],rets[1:])):\n",
    "    plt.text(ri+0.0001, re-0.0008,str(i+1))\n",
    "plt.text(risks[0]+0.001,rets[0]-0.0002,'0')\n",
    "plt.grid()\n",
    "plt.savefig('docs/imgs/mad_matlab_efficient_frontier.svg',bbox_inches='tight')"
   ]
  },
  {
   "cell_type": "code",
   "execution_count": null,
   "id": "a4232523-f040-49a7-8961-da6744bc768c",
   "metadata": {},
   "outputs": [],
   "source": [
    "## efficient risk\n",
    "w_eff_risk = pd.Series(\n",
    "    EfficientMeanAbsoluteDeviation(\n",
    "        expected_returns=mu,\n",
    "        returns=returns\n",
    "    ).efficient_risk(target_risk=0.035),\n",
    "    index=returns.columns\n",
    ")\n",
    "eff_risk = 0.035#np.mean(np.abs(w_eff_risk@(returns - mu).T))\n",
    "eff_ret = w_eff_risk.T@mu\n",
    "\n",
    "## efficient return\n",
    "w_eff_ret = pd.Series(\n",
    "    EfficientMeanAbsoluteDeviation(\n",
    "        expected_returns=mu,\n",
    "        returns=returns\n",
    "    ).efficient_return(target_return=0.011),\n",
    "    index=returns.columns\n",
    ")\n",
    "eff_ret2 = np.mean(np.abs(w_eff_ret@(returns - mu).T))\n",
    "eff_risk2 = w_eff_ret.T@mu"
   ]
  },
  {
   "cell_type": "code",
   "execution_count": null,
   "id": "2eafbbd1-a7ee-4352-85ed-88b108d7d5e1",
   "metadata": {},
   "outputs": [],
   "source": [
    "fig, ax = plt.subplots()\n",
    "plt.plot(risks,rets)\n",
    "ax.set_xlabel('L1-risk')\n",
    "ax.set_ylabel('Return')\n",
    "ax.grid(True)\n",
    "ax.set_title('MAD frontier', fontsize=14)\n",
    "ax.axvline(x=risks[25], ymin=0, ymax=0.5, color='purple', linestyle='solid')\n",
    "ax.axhline(y=rets[25], xmin=0, xmax=0.35, color='purple', linestyle='dashed')\n",
    "\n",
    "ax.axvline(x=risks[35], ymin=0, ymax=0.7, color='darkgreen', linestyle='dashed')\n",
    "ax.axhline(y=rets[35], xmin=0, xmax=0.55, color='darkgreen', linestyle='solid')\n",
    "\n",
    "ax.scatter(x=np.mean(np.abs((mu==np.max(mu)).astype(float)@(returns - mu).T)), y=np.max(mu), color='black')\n",
    "ax.scatter(x=min_risk, y=min_ret, color='red')\n",
    "\n",
    "ax.scatter(x=risks[35],y=rets[35],color='darkgreen')\n",
    "ax.scatter(x=risks[25],y=rets[25],color='purple')\n",
    "ax.annotate('target return',xy=(0.03,0.0115),color='darkgreen')\n",
    "\n",
    "ax.annotate('target risk',xy=(0.04,0.005),color='purple',rotation=90)\n",
    "plt.tight_layout()\n",
    "plt.savefig('docs/imgs/mad_efficient_frontier.svg',dpi=200, bbox_inches='tight')"
   ]
  },
  {
   "cell_type": "code",
   "execution_count": null,
   "id": "e0444088-7ba6-4e28-9ff1-45cdc22633ad",
   "metadata": {},
   "outputs": [],
   "source": [
    "model = EfficientAbsoluteDeviation(\n",
    "    expected_returns = returns.mean(),\n",
    "    returns = returns,\n",
    "    risk_free_rate = 0.0,\n",
    ")\n",
    "model.minimum_l1_risk()\n",
    "l1_risk = model._opt.value\n",
    "# model.efficient_risk(target_risk=0.03756750624124884)\n",
    "# model._opt.value"
   ]
  },
  {
   "cell_type": "code",
   "execution_count": null,
   "id": "d9ea76da-61d6-45e0-94f1-f9d69eeb8f08",
   "metadata": {},
   "outputs": [],
   "source": [
    "model = EfficientAbsoluteDeviation(\n",
    "    expected_returns = returns.mean(),\n",
    "    returns = returns,\n",
    "    risk_free_rate = 0.0,\n",
    ")\n",
    "model.efficient_risk(target_risk=l1_risk)\n",
    "ret_at_target_risk = model._opt.value"
   ]
  },
  {
   "cell_type": "code",
   "execution_count": null,
   "id": "8e378109-f14a-4974-9ccc-1ece58b82d44",
   "metadata": {},
   "outputs": [],
   "source": [
    "model = EfficientAbsoluteDeviation(\n",
    "    expected_returns = returns.mean(),\n",
    "    returns = returns,\n",
    "    risk_free_rate = 0.006,\n",
    ")\n",
    "model.tangency()"
   ]
  },
  {
   "cell_type": "code",
   "execution_count": null,
   "id": "9b01385b-1071-4b04-bf2a-c4dca878147e",
   "metadata": {},
   "outputs": [],
   "source": [
    "model._opt.value"
   ]
  },
  {
   "cell_type": "code",
   "execution_count": null,
   "id": "d48fe3b3-58aa-4658-92a8-de65a5f1028e",
   "metadata": {},
   "outputs": [],
   "source": [
    "np.mean(np.abs((returns-m)@model.weights)-0.006)"
   ]
  },
  {
   "cell_type": "code",
   "execution_count": null,
   "id": "d20c2b26-ea5e-4bdb-a939-7c69b75fa8b3",
   "metadata": {},
   "outputs": [],
   "source": [
    "m.dot(model.weights)"
   ]
  },
  {
   "cell_type": "code",
   "execution_count": null,
   "id": "01608596-109b-46c3-a569-88869d0a4366",
   "metadata": {},
   "outputs": [],
   "source": [
    "from skportfolio._omega import EfficientOmegaRatio"
   ]
  },
  {
   "cell_type": "code",
   "execution_count": null,
   "id": "2b783037-fdc4-434e-b697-29c450c61be0",
   "metadata": {},
   "outputs": [],
   "source": [
    "model = EfficientOmegaRatio(m,returns)#.max_omega_ratio()\n",
    "model.max_omega_ratio()"
   ]
  },
  {
   "cell_type": "code",
   "execution_count": null,
   "id": "a06bad12-c757-4944-8d7b-319e331ec430",
   "metadata": {},
   "outputs": [],
   "source": [
    "model.portfolio_performance()"
   ]
  },
  {
   "cell_type": "code",
   "execution_count": null,
   "id": "cf070c32-8caa-46b5-9201-3e6bd1c37fae",
   "metadata": {},
   "outputs": [],
   "source": [
    "model.weights.dot(m*12)"
   ]
  },
  {
   "cell_type": "code",
   "execution_count": null,
   "id": "a0a4ced4-f570-49ca-885a-5daf0b88bc0d",
   "metadata": {},
   "outputs": [],
   "source": [
    "m."
   ]
  },
  {
   "cell_type": "code",
   "execution_count": null,
   "id": "9fe78b44-31ad-4984-bb71-785432e59034",
   "metadata": {},
   "outputs": [],
   "source": [
    "EfficientAbsoluteDeviation(\n",
    "    expected_returns = returns.mean(),\n",
    "    returns = returns,\n",
    "    risk_free_rate = 0.0,\n",
    ").minimum_l1_risk()"
   ]
  }
 ],
 "metadata": {
  "kernelspec": {
   "display_name": "Python 3",
   "language": "python",
   "name": "python3"
  },
  "language_info": {
   "codemirror_mode": {
    "name": "ipython",
    "version": 3
   },
   "file_extension": ".py",
   "mimetype": "text/x-python",
   "name": "python",
   "nbconvert_exporter": "python",
   "pygments_lexer": "ipython3",
   "version": "3.8.10"
  }
 },
 "nbformat": 4,
 "nbformat_minor": 5
}
