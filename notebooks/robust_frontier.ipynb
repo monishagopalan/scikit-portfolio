{
 "cells": [
  {
   "cell_type": "code",
   "execution_count": null,
   "id": "liquid-duplicate",
   "metadata": {},
   "outputs": [],
   "source": [
    "%reload_ext autoreload\n",
    "%autoreload 2"
   ]
  },
  {
   "cell_type": "code",
   "execution_count": null,
   "id": "fifty-cooler",
   "metadata": {},
   "outputs": [],
   "source": [
    "import pandas as pd\n",
    "import numpy as np"
   ]
  },
  {
   "cell_type": "code",
   "execution_count": null,
   "id": "insured-bosnia",
   "metadata": {},
   "outputs": [],
   "source": [
    "from skportfolio.model_selection import *\n",
    "from sklearn.model_selection import TimeSeriesSplit\n",
    "from sklearn.model_selection import GridSearchCV\n",
    "from skportfolio import *\n",
    "from sklearn.model_selection import KFold\n",
    "from sklearn.model_selection import cross_val_score, cross_validate, cross_val_predict\n",
    "import matplotlib.pyplot as plt"
   ]
  },
  {
   "cell_type": "code",
   "execution_count": null,
   "id": "religious-configuration",
   "metadata": {},
   "outputs": [],
   "source": [
    "from skportfolio.data import load_tech_stock_prices\n",
    "prices = load_tech_stock_prices()\n",
    "returns = prices.pct_change().dropna()"
   ]
  },
  {
   "cell_type": "code",
   "execution_count": null,
   "id": "certified-information",
   "metadata": {},
   "outputs": [],
   "source": [
    "ef = MinimumVolatility()._optimizer(prices)"
   ]
  },
  {
   "cell_type": "code",
   "execution_count": null,
   "id": "hybrid-astronomy",
   "metadata": {},
   "outputs": [],
   "source": [
    "ef.efficient_return(target_return=0.2, market_neutral=False)"
   ]
  },
  {
   "cell_type": "code",
   "execution_count": null,
   "id": "encouraging-humanity",
   "metadata": {},
   "outputs": [],
   "source": [
    "from scikit_portfolio import all_portfolio, all_return_models, all_risk_estimators, all_risk_models, all_scorers"
   ]
  },
  {
   "cell_type": "code",
   "execution_count": null,
   "id": "excessive-motorcycle",
   "metadata": {},
   "outputs": [],
   "source": [
    "pd.options.display.max_columns = 200\n",
    "pd.options.display.max_rows = 500"
   ]
  },
  {
   "cell_type": "code",
   "execution_count": null,
   "id": "respiratory-attachment",
   "metadata": {},
   "outputs": [],
   "source": [
    "def load_prices():\n",
    "    df = (\n",
    "        pd.read_csv(\"scikit_portfolio/data/stock_prices_2016_2021.csv\").rename(columns={\"Date\": \"date\"}).set_index(\"date\")\n",
    "    )\n",
    "    df.index = pd.to_datetime(df.index)\n",
    "    df.index.freq = pd.infer_freq(df.index)\n",
    "    return df\n",
    "\n",
    "prices = load_prices()"
   ]
  },
  {
   "cell_type": "code",
   "execution_count": null,
   "id": "selected-heaven",
   "metadata": {},
   "outputs": [],
   "source": [
    "#CombinatorialPurgedKFold(n_splits=10, n_test_splits=4, pct_embargo=0.01, samples_info_sets=pd.Series(np.arange(100))).visualize(prices.iloc[0:100,:])"
   ]
  },
  {
   "cell_type": "code",
   "execution_count": null,
   "id": "relevant-connecticut",
   "metadata": {},
   "outputs": [],
   "source": [
    "import pandas as pd\n",
    "from skportfolio import (\n",
    "\tMichaudResampledFrontier,\n",
    "\tMaxOmegaRatio,\n",
    "\tMeanHistoricalLinearReturns,\n",
    "\tSampleCovariance\n",
    ")\n",
    "\n",
    "from skportfolio.data import load_tech_stock_prices\n",
    "prices = load_tech_stock_prices()\n",
    "returns = prices.pct_change().dropna()\n",
    "# create a Maximum sharpe ratio portfolio estimator to be fed to resampled frontier meta-estimator\n",
    "ptf = MaxOmegaRatio(\n",
    "\treturns_data=False,\n",
    "\tfrequency=252\n",
    ")\n",
    "\n",
    "ensemble = MichaudResampledFrontier(\n",
    "\tptf_estimator=ptf,\n",
    "\trets_estimator=MeanHistoricalLinearReturns(), \n",
    "    risk_estimator=SampleCovariance(),\n",
    "\tn_iter=2,\n",
    "\tn_jobs=1\n",
    ").fit(prices)"
   ]
  },
  {
   "cell_type": "code",
   "execution_count": null,
   "id": "intense-qatar",
   "metadata": {},
   "outputs": [],
   "source": []
  }
 ],
 "metadata": {
  "kernelspec": {
   "display_name": "Python 3 (ipykernel)",
   "language": "python",
   "name": "python3"
  },
  "language_info": {
   "codemirror_mode": {
    "name": "ipython",
    "version": 3
   },
   "file_extension": ".py",
   "mimetype": "text/x-python",
   "name": "python",
   "nbconvert_exporter": "python",
   "pygments_lexer": "ipython3",
   "version": "3.8.10"
  }
 },
 "nbformat": 4,
 "nbformat_minor": 5
}
