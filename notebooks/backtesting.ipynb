{
 "cells": [
  {
   "cell_type": "code",
   "execution_count": null,
   "id": "c17faca5-0474-42d4-871b-86de9234f178",
   "metadata": {},
   "outputs": [],
   "source": [
    "%reload_ext autoreload\n",
    "%autoreload 2"
   ]
  },
  {
   "cell_type": "code",
   "execution_count": null,
   "id": "b0794d8f-efb1-43e1-8d11-c0edf3febb00",
   "metadata": {},
   "outputs": [],
   "source": [
    "from IPython.display import display\n",
    "import numpy as np\n",
    "import pandas as pd\n",
    "import matplotlib.pyplot as plt\n",
    "import matplotlib as mpl\n",
    "import seaborn as sns\n",
    "\n",
    "from skportfolio import *\n",
    "from skportfolio.datasets import *\n",
    "from skportfolio.backtest.backtester import Strategy, Backtester\n",
    "from skportfolio.datasets import load_dataset, get_dataset_names"
   ]
  },
  {
   "cell_type": "code",
   "execution_count": null,
   "id": "a436a0e2-d99c-4215-9135-e730b1ba82f3",
   "metadata": {},
   "outputs": [],
   "source": [
    "%config InlineBackend.figure_format = 'svg' # makes the plots HD in the notebook\n",
    "mpl.rcParams[\"figure.autolayout\"] = True # enables tigh layout. Better multiplots\n",
    "plt.rcParams['font.family'] = 'sans-serif'\n",
    "plt.rcParams['font.sans-serif'] = 'Arial'"
   ]
  },
  {
   "cell_type": "code",
   "execution_count": null,
   "id": "24964da1-acb3-4147-a74f-c4a4f788e32b",
   "metadata": {},
   "outputs": [],
   "source": [
    "prices = load_dataset('dowportfolio')\n",
    "prices.index = pd.to_datetime(prices.index)\n",
    "prices = prices.resample('B').agg('first')\n",
    "prices = prices[prices.isna().sum(1)==0]"
   ]
  },
  {
   "cell_type": "code",
   "execution_count": null,
   "id": "9318afba-d4d4-4bdb-bad5-363ae6deb555",
   "metadata": {},
   "outputs": [],
   "source": [
    "strategy = Strategy(\n",
    "    initial_weights=EquallyWeighted().fit(prices).weights_,\n",
    "    initial_portfolio_value=10000,\n",
    "    estimator=EquallyWeighted(),\n",
    "    rebalance_frequency='BM',\n",
    "    lookback_periods=(40,126),\n",
    "    transaction_costs=(0.05, 0.05) # buy and sell costs\n",
    ")"
   ]
  },
  {
   "cell_type": "code",
   "execution_count": null,
   "id": "f3ba1685-c41e-4ac8-806a-75b8c099834f",
   "metadata": {},
   "outputs": [],
   "source": [
    "backtester = Backtester(strategy=strategy, warmup_period=40)\n",
    "backtester.fit(prices);"
   ]
  },
  {
   "cell_type": "code",
   "execution_count": null,
   "id": "893c7a51-765e-4f7b-bbf6-7849d31476fc",
   "metadata": {},
   "outputs": [],
   "source": [
    "backtester.turnover_.dropna()"
   ]
  },
  {
   "cell_type": "code",
   "execution_count": null,
   "id": "8b4a80c0-3f9f-44fd-a90d-9067e83c1af9",
   "metadata": {},
   "outputs": [],
   "source": [
    "backtester.positions_"
   ]
  },
  {
   "cell_type": "code",
   "execution_count": null,
   "id": "7e7e806e-2a7d-41a5-9899-61de44ed52c2",
   "metadata": {},
   "outputs": [],
   "source": [
    "backtester.equity_.dropna().loc['2006-02-25':].plot()"
   ]
  },
  {
   "cell_type": "code",
   "execution_count": null,
   "id": "ea8ca46d-b6a0-4ce5-af50-dc58178097d5",
   "metadata": {},
   "outputs": [],
   "source": [
    "equity_curve(backtester.equity_.dropna().loc['2006-03-01':],initial_value=1).plot()"
   ]
  }
 ],
 "metadata": {
  "kernelspec": {
   "display_name": "Python 3 (ipykernel)",
   "language": "python",
   "name": "python3"
  },
  "language_info": {
   "codemirror_mode": {
    "name": "ipython",
    "version": 3
   },
   "file_extension": ".py",
   "mimetype": "text/x-python",
   "name": "python",
   "nbconvert_exporter": "python",
   "pygments_lexer": "ipython3",
   "version": "3.8.10"
  }
 },
 "nbformat": 4,
 "nbformat_minor": 5
}
